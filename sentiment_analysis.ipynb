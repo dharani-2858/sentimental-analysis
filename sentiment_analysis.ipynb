{
  "nbformat": 4,
  "nbformat_minor": 0,
  "metadata": {
    "colab": {
      "provenance": []
    },
    "kernelspec": {
      "name": "python3",
      "display_name": "Python 3"
    },
    "language_info": {
      "name": "python"
    }
  },
  "cells": [
    {
      "cell_type": "code",
      "execution_count": null,
      "metadata": {
        "id": "dfg4zhCeNakh"
      },
      "outputs": [],
      "source": []
    },
    {
      "cell_type": "code",
      "source": [
        "!pip install textblob\n",
        "!pip install nltk\n",
        "!pip install vaderSentiment\n"
      ],
      "metadata": {
        "id": "ZtplV2vxIkJe",
        "outputId": "88eb353c-c22d-4fd4-f23b-df60580f4b2d",
        "colab": {
          "base_uri": "https://localhost:8080/"
        }
      },
      "execution_count": null,
      "outputs": [
        {
          "output_type": "stream",
          "name": "stdout",
          "text": [
            "Requirement already satisfied: textblob in /usr/local/lib/python3.11/dist-packages (0.19.0)\n",
            "Requirement already satisfied: nltk>=3.9 in /usr/local/lib/python3.11/dist-packages (from textblob) (3.9.1)\n",
            "Requirement already satisfied: click in /usr/local/lib/python3.11/dist-packages (from nltk>=3.9->textblob) (8.2.0)\n",
            "Requirement already satisfied: joblib in /usr/local/lib/python3.11/dist-packages (from nltk>=3.9->textblob) (1.5.0)\n",
            "Requirement already satisfied: regex>=2021.8.3 in /usr/local/lib/python3.11/dist-packages (from nltk>=3.9->textblob) (2024.11.6)\n",
            "Requirement already satisfied: tqdm in /usr/local/lib/python3.11/dist-packages (from nltk>=3.9->textblob) (4.67.1)\n",
            "Requirement already satisfied: nltk in /usr/local/lib/python3.11/dist-packages (3.9.1)\n",
            "Requirement already satisfied: click in /usr/local/lib/python3.11/dist-packages (from nltk) (8.2.0)\n",
            "Requirement already satisfied: joblib in /usr/local/lib/python3.11/dist-packages (from nltk) (1.5.0)\n",
            "Requirement already satisfied: regex>=2021.8.3 in /usr/local/lib/python3.11/dist-packages (from nltk) (2024.11.6)\n",
            "Requirement already satisfied: tqdm in /usr/local/lib/python3.11/dist-packages (from nltk) (4.67.1)\n",
            "Collecting vaderSentiment\n",
            "  Downloading vaderSentiment-3.3.2-py2.py3-none-any.whl.metadata (572 bytes)\n",
            "Requirement already satisfied: requests in /usr/local/lib/python3.11/dist-packages (from vaderSentiment) (2.32.3)\n",
            "Requirement already satisfied: charset-normalizer<4,>=2 in /usr/local/lib/python3.11/dist-packages (from requests->vaderSentiment) (3.4.2)\n",
            "Requirement already satisfied: idna<4,>=2.5 in /usr/local/lib/python3.11/dist-packages (from requests->vaderSentiment) (3.10)\n",
            "Requirement already satisfied: urllib3<3,>=1.21.1 in /usr/local/lib/python3.11/dist-packages (from requests->vaderSentiment) (2.4.0)\n",
            "Requirement already satisfied: certifi>=2017.4.17 in /usr/local/lib/python3.11/dist-packages (from requests->vaderSentiment) (2025.4.26)\n",
            "Downloading vaderSentiment-3.3.2-py2.py3-none-any.whl (125 kB)\n",
            "\u001b[2K   \u001b[90m━━━━━━━━━━━━━━━━━━━━━━━━━━━━━━━━━━━━━━━━\u001b[0m \u001b[32m126.0/126.0 kB\u001b[0m \u001b[31m2.8 MB/s\u001b[0m eta \u001b[36m0:00:00\u001b[0m\n",
            "\u001b[?25hInstalling collected packages: vaderSentiment\n",
            "Successfully installed vaderSentiment-3.3.2\n"
          ]
        }
      ]
    },
    {
      "cell_type": "code",
      "source": [],
      "metadata": {
        "id": "fr_sRv5XNwz8"
      },
      "execution_count": null,
      "outputs": []
    },
    {
      "cell_type": "code",
      "source": [
        "# Import libraries\n",
        "from textblob import TextBlob\n",
        "from vaderSentiment.vaderSentiment import SentimentIntensityAnalyzer\n",
        "import matplotlib.pyplot as plt\n",
        "\n",
        "# Sample tweets or social media posts\n",
        "texts = [\n",
        "    \"I love this product! It's amazing.\",\n",
        "    \"I'm feeling really sad today.\",\n",
        "    \"The service was okay, nothing special.\",\n",
        "    \"Why is everything going wrong?\",\n",
        "    \"That movie was a fantastic experience!\"\n",
        "]\n",
        "\n",
        "# Initialize VADER\n",
        "vader = SentimentIntensityAnalyzer()\n",
        "\n",
        "# Prepare results list\n",
        "results = []\n",
        "\n",
        "# Analyze each text\n",
        "for text in texts:\n",
        "    # TextBlob analysis\n",
        "    blob = TextBlob(text)\n",
        "    tb_sentiment = blob.sentiment.polarity\n",
        "\n",
        "    # VADER analysis\n",
        "    vader_score = vader.polarity_scores(text)['compound']\n",
        "\n",
        "    # Determine sentiment label (simple logic)\n",
        "    if vader_score >= 0.05:\n",
        "        sentiment = \"Positive\"\n",
        "        emotion = \"Joy\"\n",
        "    elif vader_score <= -0.05:\n",
        "        sentiment = \"Negative\"\n",
        "        emotion = \"Sadness\"\n",
        "    else:\n",
        "        sentiment = \"Neutral\"\n",
        "        emotion = \"Surprise\"\n",
        "\n",
        "    results.append({\"Text\": text, \"Sentiment\": sentiment, \"Emotion\": emotion})\n",
        "\n",
        "# Display results\n",
        "for r in results:\n",
        "    print(f\"Text: {r['Text']}\")\n",
        "    print(f\"Sentiment: {r['Sentiment']} | Emotion: {r['Emotion']}\")\n",
        "    print(\"-----\")\n",
        "\n",
        "# Visualization\n",
        "labels = [r['Emotion'] for r in results]\n",
        "plt.figure(figsize=(6,6))\n",
        "plt.pie([labels.count(e) for e in set(labels)], labels=set(labels), autopct='%1.1f%%')\n",
        "plt.title(\"Emotion Distribution\")\n",
        "plt.show()\n"
      ],
      "metadata": {
        "id": "yoyMNJUxJEte",
        "outputId": "557d1a19-0b41-4323-889a-37d66445a224",
        "colab": {
          "base_uri": "https://localhost:8080/",
          "height": 793
        }
      },
      "execution_count": null,
      "outputs": [
        {
          "output_type": "stream",
          "name": "stdout",
          "text": [
            "Text: I love this product! It's amazing.\n",
            "Sentiment: Positive | Emotion: Joy\n",
            "-----\n",
            "Text: I'm feeling really sad today.\n",
            "Sentiment: Negative | Emotion: Sadness\n",
            "-----\n",
            "Text: The service was okay, nothing special.\n",
            "Sentiment: Negative | Emotion: Sadness\n",
            "-----\n",
            "Text: Why is everything going wrong?\n",
            "Sentiment: Negative | Emotion: Sadness\n",
            "-----\n",
            "Text: That movie was a fantastic experience!\n",
            "Sentiment: Positive | Emotion: Joy\n",
            "-----\n"
          ]
        },
        {
          "output_type": "display_data",
          "data": {
            "text/plain": [
              "<Figure size 600x600 with 1 Axes>"
            ],
            "image/png": "[encoded data removed]"
          },
          "metadata": {}
        }
      ]
    }
  ]
}